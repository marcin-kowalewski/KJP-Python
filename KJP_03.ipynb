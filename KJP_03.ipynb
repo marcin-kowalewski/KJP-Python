{
 "cells": [
  {
   "cell_type": "code",
   "execution_count": 5,
   "id": "57e7f3ef",
   "metadata": {},
   "outputs": [
    {
     "name": "stdout",
     "output_type": "stream",
     "text": [
      "6.00000000000000\n",
      "0 1 2\n",
      "0 2 3\n",
      "0 3 4\n",
      "0 4 5\n",
      "0 5 6\n",
      "[(0, 0), (3, 0), (6, 4)]\n",
      "[(0, 0), (6, 4), (3, 4)]\n",
      "[(0, 0), (3, 4), (0, 4)]\n"
     ]
    },
    {
     "data": {
      "text/plain": [
       "18.0000000000000"
      ]
     },
     "execution_count": 5,
     "metadata": {},
     "output_type": "execute_result"
    }
   ],
   "source": [
    "'''\n",
    "Zdefiniować funkcję do obliczania pola trójkąta,\n",
    "która jako parametry otrzymuje listę długości boków tego trójkąta\n",
    "\n",
    "p = (a + b + c)/2\n",
    "\n",
    "P = sqrt(p*(p-a)*(p-b)*(p-c))\n",
    "'''\n",
    "def heron(a,b,c):\n",
    "     p = (a+b+c)/2\n",
    "     return (p*(p-a)*(p-b)*(p-c))**0.5\n",
    "print(heron(4,3,5))\n",
    "\n",
    "\n",
    "def odleglosc(A, B):\n",
    "     return((B[0]-A[0])**2+(B[1]-A[1])**2)**0.5\n",
    "    \n",
    "def poleTrojkata(w):\n",
    "     a = odleglosc(w[0], w[1])\n",
    "     b = odleglosc(w[1], w[2])\n",
    "     c = odleglosc(w[2], w[0])\n",
    "     return(heron(a,b,c))\n",
    "\n",
    "w=[(0, 0), (3, 0), (3, 4)]\n",
    "poleTrojkata(w)\n",
    "\n",
    "n=7\n",
    "for i in range(1,n-1):\n",
    "     print(0, i, i+1)\n",
    "\n",
    "def poleW(w):\n",
    "     n = len(w); p=0\n",
    "     for i in range(1,n-1):\n",
    "         p += poleTrojkata([w[0], w[i], w[i+1]])\n",
    "         print([w[0], w[i], w[i+1]])\n",
    "     return(p)\n",
    "\n",
    "w = [(0,0), (3,0), (6,4), (3,4), (0,4)]\n",
    "poleW(w)"
   ]
  },
  {
   "cell_type": "code",
   "execution_count": null,
   "id": "cb34f893",
   "metadata": {},
   "outputs": [],
   "source": [
    "'''\n",
    "Zdefiniować funkcję do obliczania pola trójkąta,\n",
    "która jako parametr otrzymuje listę współrzędnych wierzchołków tego trójkąta\n",
    "'''\n"
   ]
  }
 ],
 "metadata": {
  "kernelspec": {
   "display_name": "SageMath 10.2",
   "language": "sage",
   "name": "sagemath"
  },
  "language_info": {
   "codemirror_mode": {
    "name": "ipython",
    "version": 3
   },
   "file_extension": ".py",
   "mimetype": "text/x-python",
   "name": "python",
   "nbconvert_exporter": "python",
   "pygments_lexer": "ipython3",
   "version": "3.11.1"
  }
 },
 "nbformat": 4,
 "nbformat_minor": 5
}
