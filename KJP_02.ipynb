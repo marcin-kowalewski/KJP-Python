{
 "cells": [
  {
   "cell_type": "code",
   "execution_count": 25,
   "id": "47802fed",
   "metadata": {},
   "outputs": [
    {
     "name": "stdout",
     "output_type": "stream",
     "text": [
      "prawda\n",
      "prawda\n",
      "50\n",
      "25\n",
      "12\n",
      "6\n",
      "3\n",
      "1\n",
      "k = 7\n",
      "50\n",
      "25\n",
      "12\n",
      "6\n",
      "3\n",
      "1\n",
      "k = 13\n"
     ]
    }
   ],
   "source": [
    "'''\n",
    "Zmienne\n",
    "'''\n",
    "a = 2\n",
    "nazwaWielowyrazowa = 'asdad'\n",
    "\n",
    "'''\n",
    "Instrukcje sterujące\n",
    "'''\n",
    "\n",
    "'''\n",
    "Instrukcja warunkowa\n",
    "\n",
    "wszystko co niezerowe i niepuste jest zwykle prawdą\n",
    "'''\n",
    "tekst1 = \"olek\"\n",
    "tekst2 = 'Ala'\n",
    "if tekst1:\n",
    "    print('prawda')\n",
    "else:\n",
    "    print('fałsz')\n",
    "    \n",
    "if tekst2.strip().lower() == 'ala':\n",
    "    print('prawda')\n",
    "elif tekst1 == 'olek':\n",
    "    print('Tekst 1 to Olek')\n",
    "else:\n",
    "    print('fałsz')\n",
    "\n",
    "'''\n",
    "Ptle: for, while\n",
    "'''\n",
    "z = 100\n",
    "k = 1\n",
    "while True:\n",
    "    z //= 2 \n",
    "    print(z)\n",
    "    k += 1\n",
    "    if z == 1: break\n",
    "print('k =', k)\n",
    "\n",
    "z = 100\n",
    "while z > 1:\n",
    "    z //= 2 \n",
    "    print(z)\n",
    "    k += 1\n",
    "print('k =', k)"
   ]
  },
  {
   "cell_type": "code",
   "execution_count": 34,
   "id": "2b38cb3b",
   "metadata": {
    "scrolled": true
   },
   "outputs": [
    {
     "name": "stdout",
     "output_type": "stream",
     "text": [
      "2\n",
      "4\n",
      "6\n",
      "[1, 4, 9, 16, 25, 36, 49, 64, 81, 100, 121, 144, 169, 196, 225, 256, 289, 324, 361, 400, 441, 484, 529, 576, 625, 676, 729, 784, 841, 900, 961, 1024, 1089, 1156, 1225, 1296, 1369, 1444, 1521, 1600, 1681, 1764, 1849, 1936, 2025, 2116, 2209, 2304, 2401, 2500, 2601, 2704, 2809, 2916, 3025, 3136, 3249, 3364, 3481, 3600, 3721, 3844, 3969, 4096, 4225, 4356, 4489, 4624, 4761, 4900, 5041, 5184, 5329, 5476, 5625, 5776, 5929, 6084, 6241, 6400, 6561, 6724, 6889, 7056, 7225, 7396, 7569, 7744, 7921, 8100, 8281, 8464, 8649, 8836, 9025, 9216, 9409, 9604, 9801, 10000]\n",
      "3\n",
      "5\n",
      "7\n",
      "9\n",
      "11\n",
      "13\n",
      "15\n",
      "17\n",
      "19\n",
      "21\n",
      "23\n",
      "27\n",
      "29\n",
      "31\n",
      "33\n",
      "35\n",
      "37\n",
      "39\n",
      "41\n",
      "43\n",
      "45\n",
      "47\n",
      "49\n",
      "51\n",
      "53\n",
      "55\n",
      "57\n",
      "59\n",
      "61\n",
      "63\n",
      "65\n",
      "67\n",
      "69\n",
      "71\n",
      "73\n",
      "75\n",
      "77\n",
      "79\n",
      "81\n",
      "83\n",
      "85\n",
      "87\n",
      "89\n",
      "91\n",
      "93\n",
      "95\n",
      "97\n",
      "99\n",
      "10\n",
      "8\n",
      "6\n",
      "4\n",
      "2\n",
      "0\n"
     ]
    }
   ],
   "source": [
    "lista = [2, 4, 6]\n",
    "for x in lista:\n",
    "    print(x)\n",
    "    \n",
    "potegi2 = [x^2 for x in [1..100]]\n",
    "print(potegi2)\n",
    "\n",
    "for i in range(3,100,2):\n",
    "    if(25 == i): continue\n",
    "    print(i)\n",
    "    \n",
    "    \n",
    "for i in range(10,-1,-2):\n",
    "    print(i)"
   ]
  },
  {
   "cell_type": "code",
   "execution_count": 37,
   "id": "4b987d20",
   "metadata": {},
   "outputs": [
    {
     "name": "stdout",
     "output_type": "stream",
     "text": [
      "3/2\n",
      "1.50000000000000\n",
      "1\n"
     ]
    }
   ],
   "source": [
    "print(3/2)\n",
    "print(n(3/2))\n",
    "print(3//2)"
   ]
  },
  {
   "cell_type": "code",
   "execution_count": 43,
   "id": "9931dbb0",
   "metadata": {},
   "outputs": [
    {
     "name": "stdout",
     "output_type": "stream",
     "text": [
      "0\n",
      "1\n",
      "0\n",
      "1\n",
      "1\n",
      "0\n",
      "True\n",
      "False\n"
     ]
    }
   ],
   "source": [
    "'''\n",
    " a += 2 <==> a = a + 2\n",
    " \n",
    " and, or\n",
    "'''\n",
    "print(1 and 0)\n",
    "print(1 and 1)\n",
    "print(0 and 0)\n",
    "\n",
    "print(1 or 0)\n",
    "print(1 or 1)\n",
    "print(0 or 0)\n",
    "\n",
    "print(not 0)\n",
    "print(False)"
   ]
  },
  {
   "cell_type": "code",
   "execution_count": 47,
   "id": "9794deb4",
   "metadata": {},
   "outputs": [
    {
     "name": "stdout",
     "output_type": "stream",
     "text": [
      "15\n"
     ]
    }
   ],
   "source": [
    "def mojaFunkcja(a, b):\n",
    "    if a < 5: return 0\n",
    "    a += 2\n",
    "    return a + b\n",
    "    \n",
    "\n",
    "print( mojaFunkcja(8, 5) )"
   ]
  },
  {
   "cell_type": "code",
   "execution_count": 59,
   "id": "0f869442",
   "metadata": {},
   "outputs": [
    {
     "data": {
      "text/plain": [
       "'1111011'"
      ]
     },
     "execution_count": 59,
     "metadata": {},
     "output_type": "execute_result"
    }
   ],
   "source": [
    "def binarna(n):\n",
    "    strbin = ''\n",
    "    while n > 0:\n",
    "        strbin = str(n % 2) + strbin\n",
    "        n //= 2\n",
    "    return strbin\n",
    "        \n",
    "binarna(123)  "
   ]
  },
  {
   "cell_type": "code",
   "execution_count": 66,
   "id": "c1ac03a7",
   "metadata": {},
   "outputs": [
    {
     "name": "stdout",
     "output_type": "stream",
     "text": [
      "k = 6\n",
      "123\n"
     ]
    }
   ],
   "source": [
    "def dziesietna(strbin):\n",
    "    k = len(strbin)-1\n",
    "    n = 0\n",
    "    print('k =', k)\n",
    "    for b in strbin:\n",
    "        n += 2^k * int(b)\n",
    "        k -= 1\n",
    "    return n\n",
    "    \n",
    "print( dziesietna('1111011') )  "
   ]
  },
  {
   "cell_type": "code",
   "execution_count": 69,
   "id": "8e27158e",
   "metadata": {},
   "outputs": [
    {
     "data": {
      "text/plain": [
       "21"
      ]
     },
     "execution_count": 69,
     "metadata": {},
     "output_type": "execute_result"
    }
   ],
   "source": [
    "def sumaCyfr(n):\n",
    "    strbin = 0\n",
    "    while n > 0:\n",
    "        strbin = n % 10 + strbin\n",
    "        n //= 10\n",
    "    return strbin\n",
    "\n",
    "sumaCyfr(123456)"
   ]
  },
  {
   "cell_type": "code",
   "execution_count": 76,
   "id": "5c31b0a5",
   "metadata": {},
   "outputs": [
    {
     "name": "stdout",
     "output_type": "stream",
     "text": [
      "3\n"
     ]
    },
    {
     "data": {
      "text/plain": [
       "[1, 5, 7, 11]"
      ]
     },
     "execution_count": 76,
     "metadata": {},
     "output_type": "execute_result"
    }
   ],
   "source": [
    "'''\n",
    "Napisać funkcję obliczającą nwd(a,b)\n",
    "'''\n",
    "def nwd(a,b):\n",
    "    while a != b:\n",
    "        if a > b: a -= b\n",
    "        else: b -= a\n",
    "    return a\n",
    "print(nwd(123, 54))\n",
    "\n",
    "'''\n",
    "Napisać funkcję, która zwróci listę wszystkich liczb naturalnych\n",
    "względnie pierwszych z n (nie większe od n)\n",
    "'''\n",
    "def wzgledniePierwsze(n):\n",
    "    lista = [1]\n",
    "    for p in range(2, n):\n",
    "        if nwd(p, n) == 1:\n",
    "            lista.append(p)\n",
    "    return lista\n",
    "        \n",
    "wzgledniePierwsze(12)"
   ]
  },
  {
   "cell_type": "code",
   "execution_count": 77,
   "id": "f9edc7f8",
   "metadata": {},
   "outputs": [
    {
     "name": "stdout",
     "output_type": "stream",
     "text": [
      "2\n",
      "3\n"
     ]
    }
   ],
   "source": [
    "print(5 % 3)\n",
    "print(3 % 5)"
   ]
  },
  {
   "cell_type": "code",
   "execution_count": null,
   "id": "4208ad12",
   "metadata": {},
   "outputs": [],
   "source": [
    "\n",
    "    \n",
    "    "
   ]
  },
  {
   "cell_type": "code",
   "execution_count": null,
   "id": "c802deb3",
   "metadata": {},
   "outputs": [],
   "source": []
  }
 ],
 "metadata": {
  "kernelspec": {
   "display_name": "SageMath 10.2",
   "language": "sage",
   "name": "sagemath"
  },
  "language_info": {
   "codemirror_mode": {
    "name": "ipython",
    "version": 3
   },
   "file_extension": ".py",
   "mimetype": "text/x-python",
   "name": "python",
   "nbconvert_exporter": "python",
   "pygments_lexer": "ipython3",
   "version": "3.11.1"
  }
 },
 "nbformat": 4,
 "nbformat_minor": 5
}
