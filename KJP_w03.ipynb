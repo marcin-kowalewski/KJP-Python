{
 "cells": [
  {
   "cell_type": "code",
   "execution_count": 42,
   "id": "de05ab00",
   "metadata": {},
   "outputs": [
    {
     "name": "stdout",
     "output_type": "stream",
     "text": [
      "17\n",
      "(246, 0)\n",
      "<class 'tuple'>\n",
      "246\n",
      "(1, 3, 4, 5)\n"
     ]
    }
   ],
   "source": [
    "\n",
    "def fun(a, b=None):\n",
    "    if b:\n",
    "        return a + b, a - b\n",
    "    else:\n",
    "        a += 5\n",
    "        return a\n",
    "    \n",
    "print(fun(12))\n",
    "r = fun(123, 123)\n",
    "print(r)\n",
    "print( type(r) )\n",
    "type([1,2,3])\n",
    "\n",
    "print(r[0])\n",
    "\n",
    "\n",
    "k = (1,3,4,5)\n",
    "print(k)"
   ]
  },
  {
   "cell_type": "code",
   "execution_count": 11,
   "id": "954e3323",
   "metadata": {},
   "outputs": [
    {
     "name": "stdout",
     "output_type": "stream",
     "text": [
      "tak\n",
      "<class 'sage.rings.real_mpfr.RealLiteral'> <class 'sage.rings.real_mpfr.RealLiteral'>\n"
     ]
    }
   ],
   "source": [
    "n = 1.0\n",
    "m = 1.0\n",
    "if n == m and type(n) == type(m):\n",
    "    print('tak')\n",
    "else:\n",
    "    print('nie')\n",
    "    \n",
    "print(type(n), type(m))"
   ]
  },
  {
   "cell_type": "code",
   "execution_count": 49,
   "id": "fc256caa",
   "metadata": {},
   "outputs": [
    {
     "name": "stdout",
     "output_type": "stream",
     "text": [
      "(11, 10)\n",
      "10 11\n"
     ]
    }
   ],
   "source": [
    "def zamien(a, b):\n",
    "    c = a\n",
    "    a = b\n",
    "    b = c\n",
    "    return a,b\n",
    "\n",
    "a = 10 \n",
    "b = 11\n",
    "print(zamien(a, b))\n",
    "print(a,b)"
   ]
  },
  {
   "cell_type": "code",
   "execution_count": 48,
   "id": "5293e651",
   "metadata": {},
   "outputs": [
    {
     "name": "stdout",
     "output_type": "stream",
     "text": [
      "15\n",
      "15\n"
     ]
    }
   ],
   "source": [
    "def zamien(a):\n",
    "    a[0] += 5\n",
    "    return a[0]\n",
    "\n",
    "a = [10] \n",
    "print(zamien(a))\n",
    "print(a[0])"
   ]
  },
  {
   "cell_type": "code",
   "execution_count": 55,
   "id": "4df62803",
   "metadata": {},
   "outputs": [
    {
     "name": "stdout",
     "output_type": "stream",
     "text": [
      "10 11\n",
      "10 11\n"
     ]
    }
   ],
   "source": [
    "a = 10 \n",
    "b = 11\n",
    "print(a,b)\n",
    "\n",
    "[a,b] = [b,a]\n",
    "a,b = b,a\n",
    "print(a,b)"
   ]
  },
  {
   "cell_type": "code",
   "execution_count": 58,
   "id": "f6edc9a6",
   "metadata": {},
   "outputs": [
    {
     "name": "stdout",
     "output_type": "stream",
     "text": [
      "Ala ma 20 lat. Jej kot ma na imię Behemot.\n"
     ]
    }
   ],
   "source": [
    "szablon = \"Ala ma %s lat. Jej kot ma na imię %s.\"\n",
    "print(szablon % (20, 'Behemot'))"
   ]
  },
  {
   "cell_type": "code",
   "execution_count": null,
   "id": "e0b93999",
   "metadata": {},
   "outputs": [],
   "source": []
  }
 ],
 "metadata": {
  "kernelspec": {
   "display_name": "SageMath 10.2",
   "language": "sage",
   "name": "sagemath"
  },
  "language_info": {
   "codemirror_mode": {
    "name": "ipython",
    "version": 3
   },
   "file_extension": ".py",
   "mimetype": "text/x-python",
   "name": "python",
   "nbconvert_exporter": "python",
   "pygments_lexer": "ipython3",
   "version": "3.11.1"
  }
 },
 "nbformat": 4,
 "nbformat_minor": 5
}
