{
 "cells": [
  {
   "cell_type": "code",
   "execution_count": 1,
   "id": "9f68b76d",
   "metadata": {
    "scrolled": true
   },
   "outputs": [
    {
     "name": "stdout",
     "output_type": "stream",
     "text": [
      "Wynik to: 5.0\n",
      "Dzielenie zakończone sukcesem.\n",
      "\t\tOperacja próby dzielenia zakończona.\n",
      "\n",
      "Błąd: Nie można dzielić przez zero!\n",
      "\t\tOperacja próby dzielenia zakończona.\n",
      "\n",
      "Błąd: Obie wartości muszą być liczbami!\n",
      "\t\tOperacja próby dzielenia zakończona.\n",
      "\n"
     ]
    }
   ],
   "source": [
    "def divide_numbers(x, y):\n",
    "    try:\n",
    "        result = x / y\n",
    "        print(\"Wynik to:\", result)\n",
    "    except ZeroDivisionError:\n",
    "        print(\"Błąd: Nie można dzielić przez zero!\")\n",
    "    except TypeError:\n",
    "        print(\"Błąd: Obie wartości muszą być liczbami!\")\n",
    "    else:\n",
    "        print(\"Dzielenie zakończone sukcesem.\")\n",
    "    finally:\n",
    "        print(\"\\t\\tOperacja próby dzielenia zakończona.\\n\")\n",
    "\n",
    "# Przykładowe wywołania funkcji\n",
    "divide_numbers(10, 2)   # Poprawne dzielenie\n",
    "divide_numbers(10, 0)   # Próba dzielenia przez zero\n",
    "divide_numbers('10', 2) # Niepoprawne typy danych\n"
   ]
  },
  {
   "cell_type": "code",
   "execution_count": 2,
   "id": "376443da",
   "metadata": {},
   "outputs": [
    {
     "ename": "ZeroDivisionError",
     "evalue": "division by zero",
     "output_type": "error",
     "traceback": [
      "\u001b[0;31m---------------------------------------------------------------------------\u001b[0m",
      "\u001b[0;31mZeroDivisionError\u001b[0m                         Traceback (most recent call last)",
      "Cell \u001b[0;32mIn [2], line 1\u001b[0m\n\u001b[0;32m----> 1\u001b[0m \u001b[38;5;241;43m2\u001b[39;49m\u001b[43m \u001b[49m\u001b[38;5;241;43m/\u001b[39;49m\u001b[43m \u001b[49m\u001b[38;5;241;43m0\u001b[39;49m\n",
      "\u001b[0;31mZeroDivisionError\u001b[0m: division by zero"
     ]
    }
   ],
   "source": [
    "2 / 0"
   ]
  },
  {
   "cell_type": "code",
   "execution_count": 3,
   "id": "852a8ffd",
   "metadata": {},
   "outputs": [
    {
     "name": "stdout",
     "output_type": "stream",
     "text": [
      "Podaj rok urodzenia (lub 'q' aby zakończyć): q\n",
      "Zakończenie programu.\n",
      "2024-04-23 16:36:03.618482\n"
     ]
    }
   ],
   "source": [
    "from datetime import datetime\n",
    "\n",
    "def calculate_age(birth_year):\n",
    "    current_year = datetime.now().year\n",
    "    age = current_year - birth_year\n",
    "    return age\n",
    "\n",
    "while True:\n",
    "    user_input = input(\"Podaj rok urodzenia (lub 'q' aby zakończyć): \")\n",
    "    \n",
    "    if user_input.lower() == 'q':\n",
    "        print(\"Zakończenie programu.\")\n",
    "        break\n",
    "\n",
    "    try:\n",
    "        birth_year = int(user_input)  # Próba konwersji na int\n",
    "        if birth_year < 1900 or birth_year > datetime.now().year:\n",
    "            raise ValueError(\"Podaj realistyczny rok urodzenia.\")\n",
    "        \n",
    "        age = calculate_age(birth_year)\n",
    "        print(f\"Masz {age} lat.\")\n",
    "    except ValueError as ve:\n",
    "        print(f\"Błąd: {ve}\")\n",
    "    except Exception as e:\n",
    "        print(f\"Wystąpił nieoczekiwany błąd: {e}\")\n",
    "\n",
    "print(datetime.now())"
   ]
  },
  {
   "cell_type": "code",
   "execution_count": 31,
   "id": "1b15a58f",
   "metadata": {},
   "outputs": [
    {
     "name": "stdout",
     "output_type": "stream",
     "text": [
      "Podaj: 2134214\n",
      "<class 'float'>\n"
     ]
    }
   ],
   "source": [
    "dane = float( input('Podaj: ') )\n",
    "print(type(dane))"
   ]
  },
  {
   "cell_type": "code",
   "execution_count": 5,
   "id": "321e9f83",
   "metadata": {},
   "outputs": [
    {
     "name": "stdout",
     "output_type": "stream",
     "text": [
      "Błędne dane w wierszu 3: Tomasz Lato 1979-13-01 tomasz.lato@example.com\n",
      "Błędne dane w wierszu 5: Adam Mały 1975-08-15 adam.maly(at)example.com\n",
      "Błędny format danych w wierszu 6\n",
      "Błędny format danych w wierszu 9\n"
     ]
    }
   ],
   "source": [
    "import re\n",
    "\n",
    "# Funkcje do sprawdzania poprawności danych\n",
    "def check_date(date):\n",
    "    # YYYY-MM-DD\n",
    "    if re.match(r'\\d{4}-\\d{2}-\\d{2}', date):\n",
    "        year, month, day = map(int, date.split('-'))\n",
    "        return 1 <= month <= 12 and 1 <= day <= 31  # prosta walidacja\n",
    "    return False\n",
    "\n",
    "def check_email(email):\n",
    "    return re.match(r\"[^@]+@[^@]+\\.[^@]+\", email)\n",
    "\n",
    "# Główna funkcja programu\n",
    "def validate_data(filename):\n",
    "    try:\n",
    "        with open(filename, 'r') as file:\n",
    "            line_number = 1\n",
    "            for line in file:\n",
    "                data = line.strip().split()\n",
    "                if len(data) == 4:\n",
    "                    first_name, last_name, birth_date, email = data\n",
    "                    if not (first_name.isalpha() and last_name.isalpha() and check_date(birth_date) and check_email(email)):\n",
    "                        print(f\"Błędne dane w wierszu {line_number}: {line.strip()}\")\n",
    "                else:\n",
    "                    print(f\"Błędny format danych w wierszu {line_number}\")\n",
    "                line_number += 1\n",
    "    except FileNotFoundError:\n",
    "        print(f\"Błąd: Plik '{filename}' nie istnieje.\")\n",
    "    except Exception as e:\n",
    "        print(f\"Wystąpił nieoczekiwany błąd: {e}\")\n",
    "\n",
    "# Wywołanie funkcji\n",
    "filename = 'data.txt'  # Nazwa pliku do zmiany na właściwą\n",
    "validate_data(filename)\n"
   ]
  },
  {
   "cell_type": "code",
   "execution_count": 17,
   "id": "8b739e86",
   "metadata": {},
   "outputs": [
    {
     "name": "stdout",
     "output_type": "stream",
     "text": [
      "Podaj tekst zawierający tylko 012345: 121211\n",
      "Wprowadzony ciąg:  121211\n",
      "[0, 4, 2, 0, 0, 0] [1, 3]\n",
      "[0, 4, 2, 0, 0, 0] [1, 3]\n",
      "Średnia:  1.3333333333333333\n"
     ]
    }
   ],
   "source": [
    "\n",
    "regex = '012345'\n",
    "\n",
    "def isOk(ciag):\n",
    "    for c in ciag:\n",
    "        if c not in regex:\n",
    "            return False\n",
    "    return True\n",
    "\n",
    "def iloscCyfr(ciag):\n",
    "    iloscWystapien = []\n",
    "    for k in regex:\n",
    "        iloscWystapien.append(0)\n",
    "        \n",
    "    indexy2 = []\n",
    "    i = 0\n",
    "    for c in ciag:\n",
    "        iloscWystapien[int(c)] += 1\n",
    "        if c == '2':\n",
    "            indexy2.append(i)\n",
    "        i += 1\n",
    "    return iloscWystapien, indexy2\n",
    "\n",
    "def iloscCyfrI(ciag):\n",
    "    iloscWystapien = []\n",
    "    for k in regex:\n",
    "        iloscWystapien.append(0)\n",
    "        \n",
    "    indexy2 = []\n",
    "    for i in range(len(ciag)):\n",
    "        iloscWystapien[int(ciag[i])] += 1\n",
    "        if ciag[i] == '2':\n",
    "            indexy2.append(i)\n",
    "    return iloscWystapien, indexy2\n",
    "\n",
    "def sredniaCyfr(ciag):\n",
    "    wynik = 0\n",
    "    for c in ciag:\n",
    "        wynik += int(c)\n",
    "    return wynik/len(ciag)\n",
    "\n",
    "# pobieramy ciąg\n",
    "ciag = input(f\"Podaj tekst zawierający tylko {regex}: \")\n",
    "while len(ciag) == 0 or not isOk(ciag):\n",
    "    ciag = input(f\"Podaj tekst zawierający tylko {regex}: \")\n",
    "\n",
    "print('Wprowadzony ciąg: ', ciag)\n",
    "    \n",
    "wystapienia, indeksy = iloscCyfr(ciag)\n",
    "print(wystapienia, indeksy)\n",
    "\n",
    "wystapienia, indeksy = iloscCyfrI(ciag)\n",
    "print(wystapienia, indeksy)\n",
    "\n",
    "print('Średnia: ', sredniaCyfr(ciag))"
   ]
  },
  {
   "cell_type": "code",
   "execution_count": 20,
   "id": "25251cd4",
   "metadata": {},
   "outputs": [
    {
     "name": "stdout",
     "output_type": "stream",
     "text": [
      "Anna\n",
      "{'imie': 'Anna', 'nazwisko': 'Kowalska', 'wiek': 29, 'zainteresowania': ['książki', 'muzyka', 'sport'], 'miasto': 'Warszawa'}\n",
      "{'imie': 'Anna', 'nazwisko': 'Kowalska', 'wiek': 29, 'zainteresowania': ['książki', 'muzyka', 'sport']}\n",
      "imie\n",
      "nazwisko\n",
      "wiek\n",
      "zainteresowania\n",
      "Anna\n",
      "Kowalska\n",
      "29\n",
      "['książki', 'muzyka', 'sport']\n",
      "imie: Anna\n",
      "nazwisko: Kowalska\n",
      "wiek: 29\n",
      "zainteresowania: ['książki', 'muzyka', 'sport']\n"
     ]
    }
   ],
   "source": [
    "# Definicja słownika\n",
    "osoba = {\n",
    "    'imie': 'Anna',\n",
    "    'nazwisko': 'Kowalska',\n",
    "    'wiek': 28,\n",
    "    'zainteresowania': ['książki', 'muzyka', 'sport']\n",
    "}\n",
    "\n",
    "# Odczytanie wartości z słownika\n",
    "print(osoba['imie'])  # Wynik: Anna\n",
    "\n",
    "# Dodanie nowego klucza z wartością do słownika\n",
    "osoba['miasto'] = 'Warszawa'\n",
    "\n",
    "# Modyfikacja istniejącego klucza w słowniku\n",
    "osoba['wiek'] = 29\n",
    "\n",
    "# Wyświetlenie całego słownika\n",
    "print(osoba)\n",
    "\n",
    "# Usunięcie klucza z wartością\n",
    "del osoba['miasto']\n",
    "\n",
    "# Wyświetlenie całego słownika\n",
    "print(osoba)\n",
    "\n",
    "# Iteracja przez klucze\n",
    "for klucz in osoba.keys():\n",
    "    print(klucz)\n",
    "\n",
    "# Iteracja przez wartości\n",
    "for wartosc in osoba.values():\n",
    "    print(wartosc)\n",
    "\n",
    "# Iteracja przez pary klucz-wartość\n",
    "for klucz, wartosc in osoba.items():\n",
    "    print(f\"{klucz}: {wartosc}\")\n"
   ]
  },
  {
   "cell_type": "code",
   "execution_count": 21,
   "id": "4c756284",
   "metadata": {},
   "outputs": [
    {
     "name": "stdout",
     "output_type": "stream",
     "text": [
      "delete: 2\n",
      "in: 4\n",
      "a: 6\n",
      "hole: 1\n",
      "the: 10\n",
      "ground: 1\n",
      "there: 1\n",
      "lived: 1\n",
      "hobbit: 3\n",
      "is: 1\n",
      "fantasy: 1\n",
      "novel: 1\n",
      "by: 1\n",
      "jrr: 1\n",
      "tolkien: 1\n",
      "it: 1\n",
      "follows: 1\n",
      "journey: 1\n",
      "of: 4\n",
      "bilbo: 2\n",
      "baggins: 1\n",
      "as: 1\n",
      "he: 2\n",
      "sets: 1\n",
      "out: 1\n",
      "on: 1\n",
      "an: 1\n",
      "adventure: 1\n",
      "with: 1\n",
      "group: 1\n",
      "dwarves: 1\n",
      "together: 1\n",
      "they: 1\n",
      "aim: 1\n",
      "to: 1\n",
      "reclaim: 1\n",
      "lonely: 1\n",
      "mountain: 1\n",
      "and: 3\n",
      "its: 1\n",
      "treasure: 1\n",
      "from: 1\n",
      "dragon: 1\n",
      "smaug: 1\n",
      "along: 1\n",
      "way: 1\n",
      "encounters: 1\n",
      "trolls: 1\n",
      "elves: 1\n",
      "goblins: 1\n",
      "also: 1\n",
      "discovers: 1\n",
      "one: 1\n",
      "ring: 1\n",
      "which: 1\n",
      "plays: 1\n",
      "central: 1\n",
      "role: 1\n",
      "tolkiens: 1\n",
      "later: 1\n",
      "work: 1\n",
      "lord: 1\n",
      "rings: 1\n",
      "was: 1\n",
      "first: 1\n",
      "published: 1\n",
      "1937: 1\n",
      "has: 1\n",
      "since: 1\n",
      "become: 1\n",
      "classic: 1\n",
      "childrens: 1\n",
      "literature: 1\n"
     ]
    }
   ],
   "source": [
    "from collections import Counter\n",
    "\n",
    "def count_words(filename):\n",
    "    try:\n",
    "        with open(filename, 'r', encoding='utf-8') as file:\n",
    "            # Wczytanie całego pliku i przekształcenie do małych liter\n",
    "            content = file.read().lower()\n",
    "            # Usunięcie znaków interpunkcyjnych\n",
    "            content = ''.join(char for char in content if char.isalnum() or char.isspace())\n",
    "            # Podzielenie tekstu na słowa\n",
    "            words = content.split()\n",
    "            # Użycie Counter do zliczania wystąpień\n",
    "            word_count = Counter(words)\n",
    "            return word_count\n",
    "    except FileNotFoundError:\n",
    "        print(f\"Nie znaleziono pliku: {filename}\")\n",
    "        return {}\n",
    "    except Exception as e:\n",
    "        print(f\"Wystąpił błąd: {e}\")\n",
    "        return {}\n",
    "\n",
    "# Wywołanie funkcji\n",
    "filename = 'sample_text.txt'  # Zmień na odpowiednią nazwę pliku\n",
    "word_counts = count_words(filename)\n",
    "\n",
    "# Wyświetlenie wyników\n",
    "for word, count in word_counts.items():\n",
    "    print(f\"{word}: {count}\")\n"
   ]
  },
  {
   "cell_type": "code",
   "execution_count": null,
   "id": "5413155e",
   "metadata": {},
   "outputs": [],
   "source": []
  }
 ],
 "metadata": {
  "kernelspec": {
   "display_name": "Python 3 (ipykernel)",
   "language": "python",
   "name": "python3"
  },
  "language_info": {
   "codemirror_mode": {
    "name": "ipython",
    "version": 3
   },
   "file_extension": ".py",
   "mimetype": "text/x-python",
   "name": "python",
   "nbconvert_exporter": "python",
   "pygments_lexer": "ipython3",
   "version": "3.11.1"
  }
 },
 "nbformat": 4,
 "nbformat_minor": 5
}
